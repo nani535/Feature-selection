{
 "cells": [
  {
   "cell_type": "code",
   "execution_count": 1,
   "metadata": {},
   "outputs": [],
   "source": [
    "import pandas as pd\n",
    "import numpy as np\n",
    "import matplotlib.pyplot as plt\n",
    "import seaborn as sns\n",
    "import warnings\n",
    "warnings.filterwarnings('ignore')"
   ]
  },
  {
   "cell_type": "code",
   "execution_count": 2,
   "metadata": {},
   "outputs": [],
   "source": [
    "data=pd.read_csv(r\"C:\\Users\\user\\Desktop\\Data sets\\MPP_Dataset\\Train.csv\")"
   ]
  },
  {
   "cell_type": "code",
   "execution_count": 3,
   "metadata": {},
   "outputs": [
    {
     "data": {
      "text/html": [
       "<div>\n",
       "<style scoped>\n",
       "    .dataframe tbody tr th:only-of-type {\n",
       "        vertical-align: middle;\n",
       "    }\n",
       "\n",
       "    .dataframe tbody tr th {\n",
       "        vertical-align: top;\n",
       "    }\n",
       "\n",
       "    .dataframe thead th {\n",
       "        text-align: right;\n",
       "    }\n",
       "</style>\n",
       "<table border=\"1\" class=\"dataframe\">\n",
       "  <thead>\n",
       "    <tr style=\"text-align: right;\">\n",
       "      <th></th>\n",
       "      <th>Store_Ratio</th>\n",
       "      <th>Basket_Ratio</th>\n",
       "      <th>Category_1</th>\n",
       "      <th>Store_Score</th>\n",
       "      <th>Category_2</th>\n",
       "      <th>Store_Presence</th>\n",
       "      <th>Score_1</th>\n",
       "      <th>Score_2</th>\n",
       "      <th>Score_3</th>\n",
       "      <th>Score_4</th>\n",
       "      <th>time</th>\n",
       "      <th>popularity</th>\n",
       "    </tr>\n",
       "  </thead>\n",
       "  <tbody>\n",
       "    <tr>\n",
       "      <th>0</th>\n",
       "      <td>0.407</td>\n",
       "      <td>0.00380</td>\n",
       "      <td>2</td>\n",
       "      <td>-35.865</td>\n",
       "      <td>1</td>\n",
       "      <td>0.9920</td>\n",
       "      <td>0.944</td>\n",
       "      <td>0.0988</td>\n",
       "      <td>0.1100</td>\n",
       "      <td>113.911</td>\n",
       "      <td>189125</td>\n",
       "      <td>4</td>\n",
       "    </tr>\n",
       "    <tr>\n",
       "      <th>1</th>\n",
       "      <td>0.234</td>\n",
       "      <td>0.10500</td>\n",
       "      <td>0</td>\n",
       "      <td>-19.884</td>\n",
       "      <td>1</td>\n",
       "      <td>0.9440</td>\n",
       "      <td>0.900</td>\n",
       "      <td>0.1290</td>\n",
       "      <td>0.0382</td>\n",
       "      <td>76.332</td>\n",
       "      <td>186513</td>\n",
       "      <td>4</td>\n",
       "    </tr>\n",
       "    <tr>\n",
       "      <th>2</th>\n",
       "      <td>0.668</td>\n",
       "      <td>0.72600</td>\n",
       "      <td>9</td>\n",
       "      <td>-7.512</td>\n",
       "      <td>1</td>\n",
       "      <td>0.0387</td>\n",
       "      <td>0.000</td>\n",
       "      <td>0.1340</td>\n",
       "      <td>0.4530</td>\n",
       "      <td>124.075</td>\n",
       "      <td>172143</td>\n",
       "      <td>4</td>\n",
       "    </tr>\n",
       "    <tr>\n",
       "      <th>3</th>\n",
       "      <td>0.184</td>\n",
       "      <td>0.00561</td>\n",
       "      <td>4</td>\n",
       "      <td>-34.357</td>\n",
       "      <td>1</td>\n",
       "      <td>0.8490</td>\n",
       "      <td>0.931</td>\n",
       "      <td>0.1110</td>\n",
       "      <td>0.0641</td>\n",
       "      <td>79.037</td>\n",
       "      <td>184000</td>\n",
       "      <td>5</td>\n",
       "    </tr>\n",
       "    <tr>\n",
       "      <th>4</th>\n",
       "      <td>0.231</td>\n",
       "      <td>0.13100</td>\n",
       "      <td>6</td>\n",
       "      <td>-22.842</td>\n",
       "      <td>1</td>\n",
       "      <td>0.9370</td>\n",
       "      <td>0.000</td>\n",
       "      <td>0.1090</td>\n",
       "      <td>0.0677</td>\n",
       "      <td>109.560</td>\n",
       "      <td>186507</td>\n",
       "      <td>3</td>\n",
       "    </tr>\n",
       "  </tbody>\n",
       "</table>\n",
       "</div>"
      ],
      "text/plain": [
       "   Store_Ratio  Basket_Ratio  Category_1  Store_Score  Category_2  \\\n",
       "0        0.407       0.00380           2      -35.865           1   \n",
       "1        0.234       0.10500           0      -19.884           1   \n",
       "2        0.668       0.72600           9       -7.512           1   \n",
       "3        0.184       0.00561           4      -34.357           1   \n",
       "4        0.231       0.13100           6      -22.842           1   \n",
       "\n",
       "   Store_Presence  Score_1  Score_2  Score_3  Score_4    time  popularity  \n",
       "0          0.9920    0.944   0.0988   0.1100  113.911  189125           4  \n",
       "1          0.9440    0.900   0.1290   0.0382   76.332  186513           4  \n",
       "2          0.0387    0.000   0.1340   0.4530  124.075  172143           4  \n",
       "3          0.8490    0.931   0.1110   0.0641   79.037  184000           5  \n",
       "4          0.9370    0.000   0.1090   0.0677  109.560  186507           3  "
      ]
     },
     "execution_count": 3,
     "metadata": {},
     "output_type": "execute_result"
    }
   ],
   "source": [
    "data.head()"
   ]
  },
  {
   "cell_type": "code",
   "execution_count": 4,
   "metadata": {},
   "outputs": [
    {
     "data": {
      "text/plain": [
       "(18208, 12)"
      ]
     },
     "execution_count": 4,
     "metadata": {},
     "output_type": "execute_result"
    }
   ],
   "source": [
    "data.shape"
   ]
  },
  {
   "cell_type": "code",
   "execution_count": 5,
   "metadata": {},
   "outputs": [
    {
     "name": "stdout",
     "output_type": "stream",
     "text": [
      "<class 'pandas.core.frame.DataFrame'>\n",
      "RangeIndex: 18208 entries, 0 to 18207\n",
      "Data columns (total 12 columns):\n",
      " #   Column          Non-Null Count  Dtype  \n",
      "---  ------          --------------  -----  \n",
      " 0   Store_Ratio     18208 non-null  float64\n",
      " 1   Basket_Ratio    18208 non-null  float64\n",
      " 2   Category_1      18208 non-null  int64  \n",
      " 3   Store_Score     18208 non-null  float64\n",
      " 4   Category_2      18208 non-null  int64  \n",
      " 5   Store_Presence  18208 non-null  float64\n",
      " 6   Score_1         18208 non-null  float64\n",
      " 7   Score_2         18208 non-null  float64\n",
      " 8   Score_3         18208 non-null  float64\n",
      " 9   Score_4         18208 non-null  float64\n",
      " 10  time            18208 non-null  int64  \n",
      " 11  popularity      18208 non-null  int64  \n",
      "dtypes: float64(8), int64(4)\n",
      "memory usage: 1.7 MB\n"
     ]
    }
   ],
   "source": [
    "data.info()"
   ]
  },
  {
   "cell_type": "code",
   "execution_count": 6,
   "metadata": {},
   "outputs": [
    {
     "data": {
      "text/plain": [
       "Store_Ratio       0\n",
       "Basket_Ratio      0\n",
       "Category_1        0\n",
       "Store_Score       0\n",
       "Category_2        0\n",
       "Store_Presence    0\n",
       "Score_1           0\n",
       "Score_2           0\n",
       "Score_3           0\n",
       "Score_4           0\n",
       "time              0\n",
       "popularity        0\n",
       "dtype: int64"
      ]
     },
     "execution_count": 6,
     "metadata": {},
     "output_type": "execute_result"
    }
   ],
   "source": [
    "np.sum(data.isnull())"
   ]
  },
  {
   "cell_type": "code",
   "execution_count": 7,
   "metadata": {},
   "outputs": [],
   "source": [
    "# Now we use a techniqe to drop constant features from the data set\n",
    "#why we are removing constant features because these features are not imortant"
   ]
  },
  {
   "cell_type": "code",
   "execution_count": 8,
   "metadata": {},
   "outputs": [],
   "source": [
    "features=data.iloc[:,:-1]\n",
    "label=data.iloc[:,-1]"
   ]
  },
  {
   "cell_type": "code",
   "execution_count": 9,
   "metadata": {},
   "outputs": [
    {
     "data": {
      "text/plain": [
       "((18208, 11), (18208,))"
      ]
     },
     "execution_count": 9,
     "metadata": {},
     "output_type": "execute_result"
    }
   ],
   "source": [
    "features.shape,label.shape"
   ]
  },
  {
   "cell_type": "code",
   "execution_count": 10,
   "metadata": {},
   "outputs": [
    {
     "data": {
      "text/html": [
       "<div>\n",
       "<style scoped>\n",
       "    .dataframe tbody tr th:only-of-type {\n",
       "        vertical-align: middle;\n",
       "    }\n",
       "\n",
       "    .dataframe tbody tr th {\n",
       "        vertical-align: top;\n",
       "    }\n",
       "\n",
       "    .dataframe thead th {\n",
       "        text-align: right;\n",
       "    }\n",
       "</style>\n",
       "<table border=\"1\" class=\"dataframe\">\n",
       "  <thead>\n",
       "    <tr style=\"text-align: right;\">\n",
       "      <th></th>\n",
       "      <th>Store_Ratio</th>\n",
       "      <th>Basket_Ratio</th>\n",
       "      <th>Category_1</th>\n",
       "      <th>Store_Score</th>\n",
       "      <th>Category_2</th>\n",
       "      <th>Store_Presence</th>\n",
       "      <th>Score_1</th>\n",
       "      <th>Score_2</th>\n",
       "      <th>Score_3</th>\n",
       "      <th>Score_4</th>\n",
       "      <th>time</th>\n",
       "    </tr>\n",
       "  </thead>\n",
       "  <tbody>\n",
       "    <tr>\n",
       "      <th>0</th>\n",
       "      <td>0.407</td>\n",
       "      <td>0.00380</td>\n",
       "      <td>2</td>\n",
       "      <td>-35.865</td>\n",
       "      <td>1</td>\n",
       "      <td>0.9920</td>\n",
       "      <td>0.944</td>\n",
       "      <td>0.0988</td>\n",
       "      <td>0.1100</td>\n",
       "      <td>113.911</td>\n",
       "      <td>189125</td>\n",
       "    </tr>\n",
       "    <tr>\n",
       "      <th>1</th>\n",
       "      <td>0.234</td>\n",
       "      <td>0.10500</td>\n",
       "      <td>0</td>\n",
       "      <td>-19.884</td>\n",
       "      <td>1</td>\n",
       "      <td>0.9440</td>\n",
       "      <td>0.900</td>\n",
       "      <td>0.1290</td>\n",
       "      <td>0.0382</td>\n",
       "      <td>76.332</td>\n",
       "      <td>186513</td>\n",
       "    </tr>\n",
       "    <tr>\n",
       "      <th>2</th>\n",
       "      <td>0.668</td>\n",
       "      <td>0.72600</td>\n",
       "      <td>9</td>\n",
       "      <td>-7.512</td>\n",
       "      <td>1</td>\n",
       "      <td>0.0387</td>\n",
       "      <td>0.000</td>\n",
       "      <td>0.1340</td>\n",
       "      <td>0.4530</td>\n",
       "      <td>124.075</td>\n",
       "      <td>172143</td>\n",
       "    </tr>\n",
       "    <tr>\n",
       "      <th>3</th>\n",
       "      <td>0.184</td>\n",
       "      <td>0.00561</td>\n",
       "      <td>4</td>\n",
       "      <td>-34.357</td>\n",
       "      <td>1</td>\n",
       "      <td>0.8490</td>\n",
       "      <td>0.931</td>\n",
       "      <td>0.1110</td>\n",
       "      <td>0.0641</td>\n",
       "      <td>79.037</td>\n",
       "      <td>184000</td>\n",
       "    </tr>\n",
       "    <tr>\n",
       "      <th>4</th>\n",
       "      <td>0.231</td>\n",
       "      <td>0.13100</td>\n",
       "      <td>6</td>\n",
       "      <td>-22.842</td>\n",
       "      <td>1</td>\n",
       "      <td>0.9370</td>\n",
       "      <td>0.000</td>\n",
       "      <td>0.1090</td>\n",
       "      <td>0.0677</td>\n",
       "      <td>109.560</td>\n",
       "      <td>186507</td>\n",
       "    </tr>\n",
       "  </tbody>\n",
       "</table>\n",
       "</div>"
      ],
      "text/plain": [
       "   Store_Ratio  Basket_Ratio  Category_1  Store_Score  Category_2  \\\n",
       "0        0.407       0.00380           2      -35.865           1   \n",
       "1        0.234       0.10500           0      -19.884           1   \n",
       "2        0.668       0.72600           9       -7.512           1   \n",
       "3        0.184       0.00561           4      -34.357           1   \n",
       "4        0.231       0.13100           6      -22.842           1   \n",
       "\n",
       "   Store_Presence  Score_1  Score_2  Score_3  Score_4    time  \n",
       "0          0.9920    0.944   0.0988   0.1100  113.911  189125  \n",
       "1          0.9440    0.900   0.1290   0.0382   76.332  186513  \n",
       "2          0.0387    0.000   0.1340   0.4530  124.075  172143  \n",
       "3          0.8490    0.931   0.1110   0.0641   79.037  184000  \n",
       "4          0.9370    0.000   0.1090   0.0677  109.560  186507  "
      ]
     },
     "execution_count": 10,
     "metadata": {},
     "output_type": "execute_result"
    }
   ],
   "source": [
    "features.head()"
   ]
  },
  {
   "cell_type": "code",
   "execution_count": 11,
   "metadata": {},
   "outputs": [
    {
     "data": {
      "text/plain": [
       "0    4\n",
       "1    4\n",
       "2    4\n",
       "3    5\n",
       "4    3\n",
       "Name: popularity, dtype: int64"
      ]
     },
     "execution_count": 11,
     "metadata": {},
     "output_type": "execute_result"
    }
   ],
   "source": [
    "label.head()"
   ]
  },
  {
   "cell_type": "code",
   "execution_count": 12,
   "metadata": {},
   "outputs": [],
   "source": [
    "from sklearn.model_selection import train_test_split\n",
    "X_train,X_test,y_train,y_test=train_test_split(features,label,test_size=0.3,random_state=0)"
   ]
  },
  {
   "cell_type": "code",
   "execution_count": 13,
   "metadata": {},
   "outputs": [
    {
     "data": {
      "text/plain": [
       "((12745, 11), (5463, 11))"
      ]
     },
     "execution_count": 13,
     "metadata": {},
     "output_type": "execute_result"
    }
   ],
   "source": [
    "X_train.shape, X_test.shape"
   ]
  },
  {
   "cell_type": "code",
   "execution_count": 14,
   "metadata": {},
   "outputs": [
    {
     "data": {
      "text/html": [
       "<div>\n",
       "<style scoped>\n",
       "    .dataframe tbody tr th:only-of-type {\n",
       "        vertical-align: middle;\n",
       "    }\n",
       "\n",
       "    .dataframe tbody tr th {\n",
       "        vertical-align: top;\n",
       "    }\n",
       "\n",
       "    .dataframe thead th {\n",
       "        text-align: right;\n",
       "    }\n",
       "</style>\n",
       "<table border=\"1\" class=\"dataframe\">\n",
       "  <thead>\n",
       "    <tr style=\"text-align: right;\">\n",
       "      <th></th>\n",
       "      <th>Store_Ratio</th>\n",
       "      <th>Basket_Ratio</th>\n",
       "      <th>Category_1</th>\n",
       "      <th>Store_Score</th>\n",
       "      <th>Category_2</th>\n",
       "      <th>Store_Presence</th>\n",
       "      <th>Score_1</th>\n",
       "      <th>Score_2</th>\n",
       "      <th>Score_3</th>\n",
       "      <th>Score_4</th>\n",
       "      <th>time</th>\n",
       "    </tr>\n",
       "  </thead>\n",
       "  <tbody>\n",
       "    <tr>\n",
       "      <th>Store_Ratio</th>\n",
       "      <td>1.000000</td>\n",
       "      <td>0.467543</td>\n",
       "      <td>0.048362</td>\n",
       "      <td>0.599363</td>\n",
       "      <td>-0.105634</td>\n",
       "      <td>-0.474645</td>\n",
       "      <td>-0.461093</td>\n",
       "      <td>-0.039476</td>\n",
       "      <td>0.622599</td>\n",
       "      <td>0.111185</td>\n",
       "      <td>-0.051309</td>\n",
       "    </tr>\n",
       "    <tr>\n",
       "      <th>Basket_Ratio</th>\n",
       "      <td>0.467543</td>\n",
       "      <td>1.000000</td>\n",
       "      <td>0.050688</td>\n",
       "      <td>0.827021</td>\n",
       "      <td>-0.118981</td>\n",
       "      <td>-0.821750</td>\n",
       "      <td>-0.615095</td>\n",
       "      <td>0.272499</td>\n",
       "      <td>0.526086</td>\n",
       "      <td>0.245703</td>\n",
       "      <td>0.102892</td>\n",
       "    </tr>\n",
       "    <tr>\n",
       "      <th>Category_1</th>\n",
       "      <td>0.048362</td>\n",
       "      <td>0.050688</td>\n",
       "      <td>1.000000</td>\n",
       "      <td>0.042723</td>\n",
       "      <td>-0.129204</td>\n",
       "      <td>-0.047311</td>\n",
       "      <td>-0.028603</td>\n",
       "      <td>0.014921</td>\n",
       "      <td>0.038146</td>\n",
       "      <td>-0.005676</td>\n",
       "      <td>-0.011506</td>\n",
       "    </tr>\n",
       "    <tr>\n",
       "      <th>Store_Score</th>\n",
       "      <td>0.599363</td>\n",
       "      <td>0.827021</td>\n",
       "      <td>0.042723</td>\n",
       "      <td>1.000000</td>\n",
       "      <td>-0.089366</td>\n",
       "      <td>-0.725242</td>\n",
       "      <td>-0.730927</td>\n",
       "      <td>0.141319</td>\n",
       "      <td>0.517391</td>\n",
       "      <td>0.258624</td>\n",
       "      <td>0.087841</td>\n",
       "    </tr>\n",
       "    <tr>\n",
       "      <th>Category_2</th>\n",
       "      <td>-0.105634</td>\n",
       "      <td>-0.118981</td>\n",
       "      <td>-0.129204</td>\n",
       "      <td>-0.089366</td>\n",
       "      <td>1.000000</td>\n",
       "      <td>0.104967</td>\n",
       "      <td>0.027999</td>\n",
       "      <td>-0.035713</td>\n",
       "      <td>-0.051585</td>\n",
       "      <td>-0.047512</td>\n",
       "      <td>-0.008729</td>\n",
       "    </tr>\n",
       "    <tr>\n",
       "      <th>Store_Presence</th>\n",
       "      <td>-0.474645</td>\n",
       "      <td>-0.821750</td>\n",
       "      <td>-0.047311</td>\n",
       "      <td>-0.725242</td>\n",
       "      <td>0.104967</td>\n",
       "      <td>1.000000</td>\n",
       "      <td>0.572116</td>\n",
       "      <td>-0.192194</td>\n",
       "      <td>-0.429387</td>\n",
       "      <td>-0.212919</td>\n",
       "      <td>-0.071410</td>\n",
       "    </tr>\n",
       "    <tr>\n",
       "      <th>Score_1</th>\n",
       "      <td>-0.461093</td>\n",
       "      <td>-0.615095</td>\n",
       "      <td>-0.028603</td>\n",
       "      <td>-0.730927</td>\n",
       "      <td>0.027999</td>\n",
       "      <td>0.572116</td>\n",
       "      <td>1.000000</td>\n",
       "      <td>-0.101119</td>\n",
       "      <td>-0.478529</td>\n",
       "      <td>-0.198437</td>\n",
       "      <td>-0.121610</td>\n",
       "    </tr>\n",
       "    <tr>\n",
       "      <th>Score_2</th>\n",
       "      <td>-0.039476</td>\n",
       "      <td>0.272499</td>\n",
       "      <td>0.014921</td>\n",
       "      <td>0.141319</td>\n",
       "      <td>-0.035713</td>\n",
       "      <td>-0.192194</td>\n",
       "      <td>-0.101119</td>\n",
       "      <td>1.000000</td>\n",
       "      <td>0.028455</td>\n",
       "      <td>0.021866</td>\n",
       "      <td>-0.009331</td>\n",
       "    </tr>\n",
       "    <tr>\n",
       "      <th>Score_3</th>\n",
       "      <td>0.622599</td>\n",
       "      <td>0.526086</td>\n",
       "      <td>0.038146</td>\n",
       "      <td>0.517391</td>\n",
       "      <td>-0.051585</td>\n",
       "      <td>-0.429387</td>\n",
       "      <td>-0.478529</td>\n",
       "      <td>0.028455</td>\n",
       "      <td>1.000000</td>\n",
       "      <td>0.177026</td>\n",
       "      <td>0.018462</td>\n",
       "    </tr>\n",
       "    <tr>\n",
       "      <th>Score_4</th>\n",
       "      <td>0.111185</td>\n",
       "      <td>0.245703</td>\n",
       "      <td>-0.005676</td>\n",
       "      <td>0.258624</td>\n",
       "      <td>-0.047512</td>\n",
       "      <td>-0.212919</td>\n",
       "      <td>-0.198437</td>\n",
       "      <td>0.021866</td>\n",
       "      <td>0.177026</td>\n",
       "      <td>1.000000</td>\n",
       "      <td>0.031771</td>\n",
       "    </tr>\n",
       "    <tr>\n",
       "      <th>time</th>\n",
       "      <td>-0.051309</td>\n",
       "      <td>0.102892</td>\n",
       "      <td>-0.011506</td>\n",
       "      <td>0.087841</td>\n",
       "      <td>-0.008729</td>\n",
       "      <td>-0.071410</td>\n",
       "      <td>-0.121610</td>\n",
       "      <td>-0.009331</td>\n",
       "      <td>0.018462</td>\n",
       "      <td>0.031771</td>\n",
       "      <td>1.000000</td>\n",
       "    </tr>\n",
       "  </tbody>\n",
       "</table>\n",
       "</div>"
      ],
      "text/plain": [
       "                Store_Ratio  Basket_Ratio  Category_1  Store_Score  \\\n",
       "Store_Ratio        1.000000      0.467543    0.048362     0.599363   \n",
       "Basket_Ratio       0.467543      1.000000    0.050688     0.827021   \n",
       "Category_1         0.048362      0.050688    1.000000     0.042723   \n",
       "Store_Score        0.599363      0.827021    0.042723     1.000000   \n",
       "Category_2        -0.105634     -0.118981   -0.129204    -0.089366   \n",
       "Store_Presence    -0.474645     -0.821750   -0.047311    -0.725242   \n",
       "Score_1           -0.461093     -0.615095   -0.028603    -0.730927   \n",
       "Score_2           -0.039476      0.272499    0.014921     0.141319   \n",
       "Score_3            0.622599      0.526086    0.038146     0.517391   \n",
       "Score_4            0.111185      0.245703   -0.005676     0.258624   \n",
       "time              -0.051309      0.102892   -0.011506     0.087841   \n",
       "\n",
       "                Category_2  Store_Presence   Score_1   Score_2   Score_3  \\\n",
       "Store_Ratio      -0.105634       -0.474645 -0.461093 -0.039476  0.622599   \n",
       "Basket_Ratio     -0.118981       -0.821750 -0.615095  0.272499  0.526086   \n",
       "Category_1       -0.129204       -0.047311 -0.028603  0.014921  0.038146   \n",
       "Store_Score      -0.089366       -0.725242 -0.730927  0.141319  0.517391   \n",
       "Category_2        1.000000        0.104967  0.027999 -0.035713 -0.051585   \n",
       "Store_Presence    0.104967        1.000000  0.572116 -0.192194 -0.429387   \n",
       "Score_1           0.027999        0.572116  1.000000 -0.101119 -0.478529   \n",
       "Score_2          -0.035713       -0.192194 -0.101119  1.000000  0.028455   \n",
       "Score_3          -0.051585       -0.429387 -0.478529  0.028455  1.000000   \n",
       "Score_4          -0.047512       -0.212919 -0.198437  0.021866  0.177026   \n",
       "time             -0.008729       -0.071410 -0.121610 -0.009331  0.018462   \n",
       "\n",
       "                 Score_4      time  \n",
       "Store_Ratio     0.111185 -0.051309  \n",
       "Basket_Ratio    0.245703  0.102892  \n",
       "Category_1     -0.005676 -0.011506  \n",
       "Store_Score     0.258624  0.087841  \n",
       "Category_2     -0.047512 -0.008729  \n",
       "Store_Presence -0.212919 -0.071410  \n",
       "Score_1        -0.198437 -0.121610  \n",
       "Score_2         0.021866 -0.009331  \n",
       "Score_3         0.177026  0.018462  \n",
       "Score_4         1.000000  0.031771  \n",
       "time            0.031771  1.000000  "
      ]
     },
     "execution_count": 14,
     "metadata": {},
     "output_type": "execute_result"
    }
   ],
   "source": [
    "X_train.corr()"
   ]
  },
  {
   "cell_type": "code",
   "execution_count": 15,
   "metadata": {},
   "outputs": [
    {
     "data": {
      "text/plain": [
       "<matplotlib.axes._subplots.AxesSubplot at 0x25232a25df0>"
      ]
     },
     "execution_count": 15,
     "metadata": {},
     "output_type": "execute_result"
    },
    {
     "data": {
      "image/png": "[encoded data removed]",
      "text/plain": [
       "<Figure size 864x576 with 2 Axes>"
      ]
     },
     "metadata": {
      "needs_background": "light"
     },
     "output_type": "display_data"
    }
   ],
   "source": [
    "plt.figure(figsize=(12,8))\n",
    "sns.heatmap(X_train.corr(),annot=True,cmap=plt.cm.CMRmap_r)"
   ]
  },
  {
   "cell_type": "code",
   "execution_count": 16,
   "metadata": {},
   "outputs": [],
   "source": [
    "#now we will select highly correlated features and drop them\n",
    "def correlation(dataset,threshold):\n",
    "    col_corr=set()\n",
    "    corr_matrix=dataset.corr()\n",
    "    for i in range(len(corr_matrix.columns)):\n",
    "        for j in range(i):\n",
    "            if abs(corr_matrix.iloc[i,j])>threshold:#abs convert negative values into positive and select that\n",
    "                colname=corr_matrix.columns[i]\n",
    "                col_corr.add(colname)\n",
    "    return col_corr"
   ]
  },
  {
   "cell_type": "code",
   "execution_count": null,
   "metadata": {},
   "outputs": [],
   "source": []
  },
  {
   "cell_type": "code",
   "execution_count": 17,
   "metadata": {},
   "outputs": [
    {
     "data": {
      "text/plain": [
       "2"
      ]
     },
     "execution_count": 17,
     "metadata": {},
     "output_type": "execute_result"
    }
   ],
   "source": [
    "corr_features = correlation(X_train, 0.8)\n",
    "len(set(corr_features))"
   ]
  },
  {
   "cell_type": "code",
   "execution_count": 18,
   "metadata": {},
   "outputs": [
    {
     "data": {
      "text/plain": [
       "{'Store_Presence', 'Store_Score'}"
      ]
     },
     "execution_count": 18,
     "metadata": {},
     "output_type": "execute_result"
    }
   ],
   "source": [
    "corr_features"
   ]
  },
  {
   "cell_type": "markdown",
   "metadata": {},
   "source": [
    "## in the above datasset Store_presence and Store_Score are highly correlated  with 0.8 threshold so we need to drop them"
   ]
  },
  {
   "cell_type": "code",
   "execution_count": 19,
   "metadata": {},
   "outputs": [
    {
     "data": {
      "text/html": [
       "<div>\n",
       "<style scoped>\n",
       "    .dataframe tbody tr th:only-of-type {\n",
       "        vertical-align: middle;\n",
       "    }\n",
       "\n",
       "    .dataframe tbody tr th {\n",
       "        vertical-align: top;\n",
       "    }\n",
       "\n",
       "    .dataframe thead th {\n",
       "        text-align: right;\n",
       "    }\n",
       "</style>\n",
       "<table border=\"1\" class=\"dataframe\">\n",
       "  <thead>\n",
       "    <tr style=\"text-align: right;\">\n",
       "      <th></th>\n",
       "      <th>Store_Ratio</th>\n",
       "      <th>Basket_Ratio</th>\n",
       "      <th>Category_1</th>\n",
       "      <th>Category_2</th>\n",
       "      <th>Score_1</th>\n",
       "      <th>Score_2</th>\n",
       "      <th>Score_3</th>\n",
       "      <th>Score_4</th>\n",
       "      <th>time</th>\n",
       "    </tr>\n",
       "  </thead>\n",
       "  <tbody>\n",
       "    <tr>\n",
       "      <th>6069</th>\n",
       "      <td>0.795</td>\n",
       "      <td>0.8800</td>\n",
       "      <td>2</td>\n",
       "      <td>1</td>\n",
       "      <td>0.8310</td>\n",
       "      <td>0.3080</td>\n",
       "      <td>0.335</td>\n",
       "      <td>123.004</td>\n",
       "      <td>439426</td>\n",
       "    </tr>\n",
       "    <tr>\n",
       "      <th>11155</th>\n",
       "      <td>0.669</td>\n",
       "      <td>0.0252</td>\n",
       "      <td>7</td>\n",
       "      <td>1</td>\n",
       "      <td>0.9600</td>\n",
       "      <td>0.0969</td>\n",
       "      <td>0.828</td>\n",
       "      <td>131.293</td>\n",
       "      <td>116835</td>\n",
       "    </tr>\n",
       "    <tr>\n",
       "      <th>12777</th>\n",
       "      <td>0.752</td>\n",
       "      <td>0.8610</td>\n",
       "      <td>9</td>\n",
       "      <td>0</td>\n",
       "      <td>0.0000</td>\n",
       "      <td>0.1260</td>\n",
       "      <td>0.666</td>\n",
       "      <td>113.396</td>\n",
       "      <td>182118</td>\n",
       "    </tr>\n",
       "    <tr>\n",
       "      <th>16599</th>\n",
       "      <td>0.735</td>\n",
       "      <td>0.7910</td>\n",
       "      <td>8</td>\n",
       "      <td>1</td>\n",
       "      <td>0.0000</td>\n",
       "      <td>0.2330</td>\n",
       "      <td>0.425</td>\n",
       "      <td>160.008</td>\n",
       "      <td>125440</td>\n",
       "    </tr>\n",
       "    <tr>\n",
       "      <th>3254</th>\n",
       "      <td>0.620</td>\n",
       "      <td>0.9060</td>\n",
       "      <td>11</td>\n",
       "      <td>0</td>\n",
       "      <td>0.0206</td>\n",
       "      <td>0.1830</td>\n",
       "      <td>0.398</td>\n",
       "      <td>123.047</td>\n",
       "      <td>221773</td>\n",
       "    </tr>\n",
       "  </tbody>\n",
       "</table>\n",
       "</div>"
      ],
      "text/plain": [
       "       Store_Ratio  Basket_Ratio  Category_1  Category_2  Score_1  Score_2  \\\n",
       "6069         0.795        0.8800           2           1   0.8310   0.3080   \n",
       "11155        0.669        0.0252           7           1   0.9600   0.0969   \n",
       "12777        0.752        0.8610           9           0   0.0000   0.1260   \n",
       "16599        0.735        0.7910           8           1   0.0000   0.2330   \n",
       "3254         0.620        0.9060          11           0   0.0206   0.1830   \n",
       "\n",
       "       Score_3  Score_4    time  \n",
       "6069     0.335  123.004  439426  \n",
       "11155    0.828  131.293  116835  \n",
       "12777    0.666  113.396  182118  \n",
       "16599    0.425  160.008  125440  \n",
       "3254     0.398  123.047  221773  "
      ]
     },
     "execution_count": 19,
     "metadata": {},
     "output_type": "execute_result"
    }
   ],
   "source": [
    "X_train.drop(corr_features,axis=1).head()"
   ]
  },
  {
   "cell_type": "code",
   "execution_count": null,
   "metadata": {},
   "outputs": [],
   "source": []
  },
  {
   "cell_type": "code",
   "execution_count": null,
   "metadata": {},
   "outputs": [],
   "source": []
  }
 ],
 "metadata": {
  "kernelspec": {
   "display_name": "Python 3",
   "language": "python",
   "name": "python3"
  },
  "language_info": {
   "codemirror_mode": {
    "name": "ipython",
    "version": 3
   },
   "file_extension": ".py",
   "mimetype": "text/x-python",
   "name": "python",
   "nbconvert_exporter": "python",
   "pygments_lexer": "ipython3",
   "version": "3.8.3"
  }
 },
 "nbformat": 4,
 "nbformat_minor": 4
}
